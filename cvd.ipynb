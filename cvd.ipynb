{
 "cells": [
  {
   "cell_type": "code",
   "execution_count": null,
   "id": "7a334839-6ea1-4abb-b743-6447bdf6e170",
   "metadata": {},
   "outputs": [],
   "source": [
    "import pandas as pd\n",
    "from sklearn.model_selection import train_test_split\n",
    "from sklearn.preprocessing import LabelEncoder\n",
    "from sklearn.neighbors import KNeighborsClassifier\n",
    "import matplotlib.pyplot as plt\n",
    "\n",
    "data_path = \"Cleaned_Dataset.csv\"\n",
    "cleaned_data = pd.read_csv(data_path)\n",
    "\n",
    "cleaned_data['RIDAGEYR'] = pd.to_numeric(cleaned_data['RIDAGEYR'], errors='coerce')\n",
    "cleaned_data.dropna(subset=['RIDAGEYR', 'RIAGENDR'], inplace=True)\n",
    "\n",
    "label_encoder = LabelEncoder()\n",
    "cleaned_data['RIAGENDR'] = label_encoder.fit_transform(cleaned_data['RIAGENDR'])\n",
    "\n",
    "X = cleaned_data[['RIDAGEYR']]\n",
    "y = cleaned_data['RIAGENDR']\n",
    "\n",
    "X_train, X_test, y_train, y_test = train_test_split(X, y, test_size=0.2, random_state=42)\n",
    "\n",
    "knn = KNeighborsClassifier(n_neighbors=5)\n",
    "knn.fit(X_train, y_train)\n",
    "\n",
    "y_pred = knn.predict(X_test)\n",
    "predicted_counts = pd.Series(y_pred).value_counts()\n",
    "\n",
    "categories = label_encoder.inverse_transform([0, 1])\n",
    "\n",
    "print(f\"Predicted Counts:\\n{categories[0]} (Female): {predicted_counts.get(0, 0)}\\n{categories[1]} (Male): {predicted_counts.get(1, 0)}\")\n",
    "\n",
    "plt.figure(figsize=(10, 5))\n",
    "plt.bar(categories, predicted_counts, color=['blue', 'pink'])\n",
    "plt.title(\"Predicted Gender Counts (KNN)\")\n",
    "plt.xlabel(\"Gender\")\n",
    "plt.ylabel(\"Count\")\n",
    "plt.show()\n",
    "\n",
    "plt.figure(figsize=(10, 5))\n",
    "plt.scatter(X_test, y_pred, c=y_pred, cmap='bwr', alpha=0.6)\n",
    "plt.title(\"Scatter Plot of Age vs Predicted Gender (KNN)\")\n",
    "plt.xlabel(\"Age (RIDAGEYR)\")\n",
    "plt.ylabel(\"Predicted Gender (0: Female, 1: Male)\")\n",
    "plt.colorbar(label=\"Gender\")\n",
    "plt.show()\n"
   ]
  }
 ],
 "metadata": {
  "kernelspec": {
   "display_name": "Python 3 (ipykernel)",
   "language": "python",
   "name": "python3"
  },
  "language_info": {
   "codemirror_mode": {
    "name": "ipython",
    "version": 3
   },
   "file_extension": ".py",
   "mimetype": "text/x-python",
   "name": "python",
   "nbconvert_exporter": "python",
   "pygments_lexer": "ipython3",
   "version": "3.11.7"
  }
 },
 "nbformat": 4,
 "nbformat_minor": 5
}
